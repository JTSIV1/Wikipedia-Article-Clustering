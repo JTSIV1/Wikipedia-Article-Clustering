{
 "cells": [
  {
   "cell_type": "markdown",
   "metadata": {},
   "source": [
    "### Project 2: Setting up the data"
   ]
  },
  {
   "cell_type": "markdown",
   "metadata": {},
   "source": [
    "Imports:"
   ]
  },
  {
   "cell_type": "code",
   "execution_count": 4,
   "metadata": {},
   "outputs": [],
   "source": [
    "import pandas as pd"
   ]
  },
  {
   "cell_type": "markdown",
   "metadata": {},
   "source": [
    "Loading and sampling 5% of wikipedia data:"
   ]
  },
  {
   "cell_type": "code",
   "execution_count": 5,
   "metadata": {},
   "outputs": [
    {
     "name": "stdout",
     "output_type": "stream",
     "text": [
      "a parquet  (442726, 4)\n",
      "running total dataframe  (8855, 4)\n",
      "b parquet  (326585, 4)\n",
      "running total dataframe  (15387, 4)\n",
      "c parquet  (414595, 4)\n",
      "running total dataframe  (23679, 4)\n",
      "d parquet  (252746, 4)\n",
      "running total dataframe  (28734, 4)\n",
      "e parquet  (204090, 4)\n",
      "running total dataframe  (32816, 4)\n",
      "f parquet  (175783, 4)\n",
      "running total dataframe  (36332, 4)\n",
      "g parquet  (236095, 4)\n",
      "running total dataframe  (41054, 4)\n",
      "h parquet  (235081, 4)\n",
      "running total dataframe  (45756, 4)\n",
      "i parquet  (126474, 4)\n",
      "running total dataframe  (48285, 4)\n",
      "j parquet  (273907, 4)\n",
      "running total dataframe  (53763, 4)\n",
      "k parquet  (204595, 4)\n",
      "running total dataframe  (57855, 4)\n",
      "l parquet  (364443, 4)\n",
      "running total dataframe  (65144, 4)\n",
      "m parquet  (434396, 4)\n",
      "running total dataframe  (73832, 4)\n",
      "n parquet  (192647, 4)\n",
      "running total dataframe  (77685, 4)\n",
      "o parquet  (109096, 4)\n",
      "running total dataframe  (79867, 4)\n",
      "p parquet  (317170, 4)\n",
      "running total dataframe  (86210, 4)\n",
      "q parquet  (19309, 4)\n",
      "running total dataframe  (86596, 4)\n",
      "r parquet  (254455, 4)\n",
      "running total dataframe  (91685, 4)\n",
      "s parquet  (501964, 4)\n",
      "running total dataframe  (101724, 4)\n",
      "t parquet  (367833, 4)\n",
      "running total dataframe  (109081, 4)\n",
      "u parquet  (59790, 4)\n",
      "running total dataframe  (110277, 4)\n",
      "v parquet  (99375, 4)\n",
      "running total dataframe  (112265, 4)\n",
      "w parquet  (172595, 4)\n",
      "running total dataframe  (115717, 4)\n",
      "x parquet  (12914, 4)\n",
      "running total dataframe  (115975, 4)\n",
      "y parquet  (47649, 4)\n",
      "running total dataframe  (116928, 4)\n",
      "z parquet  (35525, 4)\n",
      "running total dataframe  (117638, 4)\n",
      "number parquet  (376113, 4)\n",
      "running total dataframe  (125160, 4)\n",
      "other parquet  (28824, 4)\n",
      "running total dataframe  (125736, 4)\n"
     ]
    },
    {
     "data": {
      "text/html": [
       "<div>\n",
       "<style scoped>\n",
       "    .dataframe tbody tr th:only-of-type {\n",
       "        vertical-align: middle;\n",
       "    }\n",
       "\n",
       "    .dataframe tbody tr th {\n",
       "        vertical-align: top;\n",
       "    }\n",
       "\n",
       "    .dataframe thead th {\n",
       "        text-align: right;\n",
       "    }\n",
       "</style>\n",
       "<table border=\"1\" class=\"dataframe\">\n",
       "  <thead>\n",
       "    <tr style=\"text-align: right;\">\n",
       "      <th></th>\n",
       "      <th>id</th>\n",
       "      <th>title</th>\n",
       "      <th>text</th>\n",
       "      <th>categories</th>\n",
       "    </tr>\n",
       "  </thead>\n",
       "  <tbody>\n",
       "    <tr>\n",
       "      <th>29181</th>\n",
       "      <td>23968555</td>\n",
       "      <td>Abagrotis mirabilis</td>\n",
       "      <td>Abagrotis mirabilis is a moth of the family No...</td>\n",
       "      <td>[Moths of North America, Moths described in 1879]</td>\n",
       "    </tr>\n",
       "    <tr>\n",
       "      <th>185692</th>\n",
       "      <td>21329784</td>\n",
       "      <td>All Saints Church at Monie</td>\n",
       "      <td>All Saints Church at Monie is a historic Episc...</td>\n",
       "      <td>[Episcopal church buildings in Maryland, Churc...</td>\n",
       "    </tr>\n",
       "    <tr>\n",
       "      <th>414111</th>\n",
       "      <td>204077</td>\n",
       "      <td>August Potthast</td>\n",
       "      <td>August Potthast (13 August 1824, Höxter, Provi...</td>\n",
       "      <td>[1824 births, 1898 deaths, People from Höxter,...</td>\n",
       "    </tr>\n",
       "    <tr>\n",
       "      <th>400100</th>\n",
       "      <td>14852169</td>\n",
       "      <td>Athletics at the 2000 Summer Olympics – Men's ...</td>\n",
       "      <td>The men's 800 metres event at the 2000 Summer ...</td>\n",
       "      <td>[Athletics at the 2000 Summer Olympics, 800 me...</td>\n",
       "    </tr>\n",
       "    <tr>\n",
       "      <th>241233</th>\n",
       "      <td>56485290</td>\n",
       "      <td>Anatoly Glushenkov</td>\n",
       "      <td>Anatoly Yegorovich Glushenkov (, 20 November 1...</td>\n",
       "      <td>[1942 births, 2018 deaths, Governors of Smolen...</td>\n",
       "    </tr>\n",
       "  </tbody>\n",
       "</table>\n",
       "</div>"
      ],
      "text/plain": [
       "              id                                              title  \\\n",
       "29181   23968555                                Abagrotis mirabilis   \n",
       "185692  21329784                         All Saints Church at Monie   \n",
       "414111    204077                                    August Potthast   \n",
       "400100  14852169  Athletics at the 2000 Summer Olympics – Men's ...   \n",
       "241233  56485290                                 Anatoly Glushenkov   \n",
       "\n",
       "                                                     text  \\\n",
       "29181   Abagrotis mirabilis is a moth of the family No...   \n",
       "185692  All Saints Church at Monie is a historic Episc...   \n",
       "414111  August Potthast (13 August 1824, Höxter, Provi...   \n",
       "400100  The men's 800 metres event at the 2000 Summer ...   \n",
       "241233  Anatoly Yegorovich Glushenkov (, 20 November 1...   \n",
       "\n",
       "                                               categories  \n",
       "29181   [Moths of North America, Moths described in 1879]  \n",
       "185692  [Episcopal church buildings in Maryland, Churc...  \n",
       "414111  [1824 births, 1898 deaths, People from Höxter,...  \n",
       "400100  [Athletics at the 2000 Summer Olympics, 800 me...  \n",
       "241233  [1942 births, 2018 deaths, Governors of Smolen...  "
      ]
     },
     "execution_count": 5,
     "metadata": {},
     "output_type": "execute_result"
    }
   ],
   "source": [
    "full_data = pd.DataFrame()\n",
    "\n",
    "docs = ['a', 'b', 'c', 'd', 'e', 'f', 'g', 'h', 'i', 'j', 'k', 'l', 'm', 'n', 'o', 'p', 'q', 'r', 's', 't', 'u', 'v', 'w', 'x', 'y', 'z', 'number', 'other']\n",
    "\n",
    "\n",
    "for i in docs:\n",
    "    df = pd.read_parquet(f'data/{i}.parquet')\n",
    "    print(f'{i} parquet ', df.shape)\n",
    "    full_data = pd.concat([full_data, df.sample(frac = 0.02, axis = 0)])\n",
    "    print(\"running total dataframe \", full_data.shape)\n",
    "\n",
    "full_data.head()"
   ]
  },
  {
   "cell_type": "markdown",
   "metadata": {},
   "source": [
    "Save data for later:"
   ]
  },
  {
   "cell_type": "code",
   "execution_count": 6,
   "metadata": {},
   "outputs": [],
   "source": [
    "full_data.to_parquet('Sampled_Data.parquet.gzip', compression='gzip')  "
   ]
  }
 ],
 "metadata": {
  "kernelspec": {
   "display_name": "base",
   "language": "python",
   "name": "python3"
  },
  "language_info": {
   "codemirror_mode": {
    "name": "ipython",
    "version": 3
   },
   "file_extension": ".py",
   "mimetype": "text/x-python",
   "name": "python",
   "nbconvert_exporter": "python",
   "pygments_lexer": "ipython3",
   "version": "3.11.5"
  }
 },
 "nbformat": 4,
 "nbformat_minor": 2
}
