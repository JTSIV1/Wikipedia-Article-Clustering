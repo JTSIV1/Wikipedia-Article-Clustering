{
 "cells": [
  {
   "cell_type": "markdown",
   "metadata": {},
   "source": [
    "### Project 2: Calculating Similarity of Dataset Labels"
   ]
  },
  {
   "cell_type": "markdown",
   "metadata": {},
   "source": [
    "Imports:"
   ]
  },
  {
   "cell_type": "code",
   "execution_count": 6,
   "metadata": {},
   "outputs": [],
   "source": [
    "import pandas as pd\n",
    "import random\n",
    "from sklearn.metrics.pairwise import cosine_similarity\n",
    "from sklearn.feature_extraction.text import TfidfVectorizer"
   ]
  },
  {
   "cell_type": "markdown",
   "metadata": {},
   "source": [
    "Load Corpus:"
   ]
  },
  {
   "cell_type": "code",
   "execution_count": 9,
   "metadata": {},
   "outputs": [
    {
     "name": "stdout",
     "output_type": "stream",
     "text": [
      "(125736, 4)\n"
     ]
    },
    {
     "data": {
      "text/html": [
       "<div>\n",
       "<style scoped>\n",
       "    .dataframe tbody tr th:only-of-type {\n",
       "        vertical-align: middle;\n",
       "    }\n",
       "\n",
       "    .dataframe tbody tr th {\n",
       "        vertical-align: top;\n",
       "    }\n",
       "\n",
       "    .dataframe thead th {\n",
       "        text-align: right;\n",
       "    }\n",
       "</style>\n",
       "<table border=\"1\" class=\"dataframe\">\n",
       "  <thead>\n",
       "    <tr style=\"text-align: right;\">\n",
       "      <th></th>\n",
       "      <th>id</th>\n",
       "      <th>title</th>\n",
       "      <th>text</th>\n",
       "      <th>categories</th>\n",
       "    </tr>\n",
       "  </thead>\n",
       "  <tbody>\n",
       "    <tr>\n",
       "      <th>29181</th>\n",
       "      <td>23968555</td>\n",
       "      <td>Abagrotis mirabilis</td>\n",
       "      <td>Abagrotis mirabilis is a moth of the family No...</td>\n",
       "      <td>[Moths of North America, Moths described in 1879]</td>\n",
       "    </tr>\n",
       "    <tr>\n",
       "      <th>185692</th>\n",
       "      <td>21329784</td>\n",
       "      <td>All Saints Church at Monie</td>\n",
       "      <td>All Saints Church at Monie is a historic Episc...</td>\n",
       "      <td>[Episcopal church buildings in Maryland, Churc...</td>\n",
       "    </tr>\n",
       "    <tr>\n",
       "      <th>414111</th>\n",
       "      <td>204077</td>\n",
       "      <td>August Potthast</td>\n",
       "      <td>August Potthast (13 August 1824, Höxter, Provi...</td>\n",
       "      <td>[1824 births, 1898 deaths, People from Höxter,...</td>\n",
       "    </tr>\n",
       "    <tr>\n",
       "      <th>400100</th>\n",
       "      <td>14852169</td>\n",
       "      <td>Athletics at the 2000 Summer Olympics – Men's ...</td>\n",
       "      <td>The men's 800 metres event at the 2000 Summer ...</td>\n",
       "      <td>[Athletics at the 2000 Summer Olympics, 800 me...</td>\n",
       "    </tr>\n",
       "    <tr>\n",
       "      <th>241233</th>\n",
       "      <td>56485290</td>\n",
       "      <td>Anatoly Glushenkov</td>\n",
       "      <td>Anatoly Yegorovich Glushenkov (, 20 November 1...</td>\n",
       "      <td>[1942 births, 2018 deaths, Governors of Smolen...</td>\n",
       "    </tr>\n",
       "  </tbody>\n",
       "</table>\n",
       "</div>"
      ],
      "text/plain": [
       "              id                                              title  \\\n",
       "29181   23968555                                Abagrotis mirabilis   \n",
       "185692  21329784                         All Saints Church at Monie   \n",
       "414111    204077                                    August Potthast   \n",
       "400100  14852169  Athletics at the 2000 Summer Olympics – Men's ...   \n",
       "241233  56485290                                 Anatoly Glushenkov   \n",
       "\n",
       "                                                     text  \\\n",
       "29181   Abagrotis mirabilis is a moth of the family No...   \n",
       "185692  All Saints Church at Monie is a historic Episc...   \n",
       "414111  August Potthast (13 August 1824, Höxter, Provi...   \n",
       "400100  The men's 800 metres event at the 2000 Summer ...   \n",
       "241233  Anatoly Yegorovich Glushenkov (, 20 November 1...   \n",
       "\n",
       "                                               categories  \n",
       "29181   [Moths of North America, Moths described in 1879]  \n",
       "185692  [Episcopal church buildings in Maryland, Churc...  \n",
       "414111  [1824 births, 1898 deaths, People from Höxter,...  \n",
       "400100  [Athletics at the 2000 Summer Olympics, 800 me...  \n",
       "241233  [1942 births, 2018 deaths, Governors of Smolen...  "
      ]
     },
     "execution_count": 9,
     "metadata": {},
     "output_type": "execute_result"
    }
   ],
   "source": [
    "df = pd.read_parquet('Sampled_Data.parquet.gzip')\n",
    "\n",
    "print(df.shape)\n",
    "df.head()"
   ]
  },
  {
   "cell_type": "markdown",
   "metadata": {},
   "source": [
    "Similarity of Created Categories"
   ]
  },
  {
   "cell_type": "code",
   "execution_count": 13,
   "metadata": {},
   "outputs": [],
   "source": [
    "# Calculate cosine similarity for each topic\n",
    "cosine_similarities = []\n",
    "vectorizer = TfidfVectorizer()\n",
    "sim_sum = 0\n",
    "samp_sum = 0\n",
    "count = 0\n",
    "\n",
    "# Get unique topics\n",
    "unique_categories = df['categories'].explode().dropna().tolist()\n",
    "unique_categories = random.sample(unique_categories, 200)\n",
    "\n",
    "# Save separate dataframes based on topic\n",
    "for cat in unique_categories:\n",
    "    categ_texts = df[df['categories'].apply(lambda x: cat in x)]['text'].tolist()\n",
    "    tfidf_matrix = vectorizer.fit_transform(categ_texts)\n",
    "    similarity_matrix = cosine_similarity(tfidf_matrix, tfidf_matrix)\n",
    "    mean_similarity = similarity_matrix.mean()\n",
    "    samp_sum += len(categ_texts)\n",
    "    cosine_similarities.append((cat, len(categ_texts), mean_similarity))\n",
    "    sim_sum += mean_similarity\n",
    "    count += 1\n",
    "\n",
    "cosine_similarities.append((\"Average\", samp_sum / count, sim_sum / count))\n",
    "\n",
    "# Create a DataFrame\n",
    "similarity_df = pd.DataFrame(cosine_similarities, columns=['Category', 'Category_Size', 'Cosine_Similarity_Score'])\n",
    "\n",
    "# Save the DataFrame to a CSV file\n",
    "similarity_df.to_csv(\"given_categiry_cosine_similarity_scores.csv\", index=False)"
   ]
  }
 ],
 "metadata": {
  "kernelspec": {
   "display_name": "base",
   "language": "python",
   "name": "python3"
  },
  "language_info": {
   "codemirror_mode": {
    "name": "ipython",
    "version": 3
   },
   "file_extension": ".py",
   "mimetype": "text/x-python",
   "name": "python",
   "nbconvert_exporter": "python",
   "pygments_lexer": "ipython3",
   "version": "3.11.5"
  }
 },
 "nbformat": 4,
 "nbformat_minor": 2
}
